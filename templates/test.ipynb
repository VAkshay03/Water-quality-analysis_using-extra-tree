{
 "cells": [
  {
   "cell_type": "code",
   "execution_count": null,
   "metadata": {},
   "outputs": [
    {
     "name": "stdout",
     "output_type": "stream",
     "text": [
      "Requirement already satisfied: pandas in c:\\users\\bharath elakurthi\\appdata\\local\\programs\\python\\python311\\lib\\site-packages (2.2.3)\n",
      "Requirement already satisfied: numpy>=1.23.2 in c:\\users\\bharath elakurthi\\appdata\\local\\programs\\python\\python311\\lib\\site-packages (from pandas) (2.2.0)\n",
      "Requirement already satisfied: python-dateutil>=2.8.2 in c:\\users\\bharath elakurthi\\appdata\\local\\programs\\python\\python311\\lib\\site-packages (from pandas) (2.9.0.post0)\n",
      "Requirement already satisfied: pytz>=2020.1 in c:\\users\\bharath elakurthi\\appdata\\local\\programs\\python\\python311\\lib\\site-packages (from pandas) (2024.2)\n",
      "Requirement already satisfied: tzdata>=2022.7 in c:\\users\\bharath elakurthi\\appdata\\local\\programs\\python\\python311\\lib\\site-packages (from pandas) (2024.2)\n",
      "Requirement already satisfied: six>=1.5 in c:\\users\\bharath elakurthi\\appdata\\local\\programs\\python\\python311\\lib\\site-packages (from python-dateutil>=2.8.2->pandas) (1.17.0)\n",
      "Note: you may need to restart the kernel to use updated packages.\n"
     ]
    },
    {
     "name": "stderr",
     "output_type": "stream",
     "text": [
      "\n",
      "[notice] A new release of pip is available: 23.2.1 -> 24.3.1\n",
      "[notice] To update, run: python.exe -m pip install --upgrade pip\n"
     ]
    }
   ],
   "source": [
    "pip install pandas "
   ]
  },
  {
   "cell_type": "code",
   "execution_count": 22,
   "metadata": {},
   "outputs": [
    {
     "name": "stdout",
     "output_type": "stream",
     "text": [
      "         ph    Hardness        Solids  Chloramines     Sulfate  Conductivity  \\\n",
      "0       NaN  204.890455  20791.318981     7.300212  368.516441    564.308654   \n",
      "1  3.716080  129.422921  18630.057858     6.635246         NaN    592.885359   \n",
      "2  8.099124  224.236259  19909.541732     9.275884         NaN    418.606213   \n",
      "3  8.316766  214.373394  22018.417441     8.059332  356.886136    363.266516   \n",
      "4  9.092223  181.101509  17978.986339     6.546600  310.135738    398.410813   \n",
      "\n",
      "   Organic_carbon  Trihalomethanes  Turbidity  Potability  \n",
      "0       10.379783        86.990970   2.963135           0  \n",
      "1       15.180013        56.329076   4.500656           0  \n",
      "2       16.868637        66.420093   3.055934           0  \n",
      "3       18.436524       100.341674   4.628771           0  \n",
      "4       11.558279        31.997993   4.075075           0  \n"
     ]
    }
   ],
   "source": [
    "#step 1:#loadinig the data set\n",
    "import pandas as pd\n",
    "df = pd.read_csv(r'C:\\Users\\Bharath Elakurthi\\Downloads\\water_potability.csv')\n",
    "print(df.head())"
   ]
  },
  {
   "cell_type": "code",
   "execution_count": 23,
   "metadata": {},
   "outputs": [
    {
     "ename": "SyntaxError",
     "evalue": "invalid syntax (3088623711.py, line 1)",
     "output_type": "error",
     "traceback": [
      "\u001b[1;36m  Cell \u001b[1;32mIn[23], line 1\u001b[1;36m\u001b[0m\n\u001b[1;33m    [] df.isnull().sum()\u001b[0m\n\u001b[1;37m       ^\u001b[0m\n\u001b[1;31mSyntaxError\u001b[0m\u001b[1;31m:\u001b[0m invalid syntax\n"
     ]
    }
   ],
   "source": [
    "[] df.isnull().sum()\n",
    "df.dropna(inplace=True)\n",
    "[] df['ph']=df['ph'].fillna(df.groupby(['pottability'])['ph'].transform('mean'))\n",
    "df['sulphate']=df['sulphate'].fillna(df.groupby(['potability'])['su;phate'].transform('mean'))\n",
    "df['Trihalomethanes']=df['Trihalomethanes'].fillna(df.groupby(['Potability']))['Trihalomethanes'].transform\n",
    "\n"
   ]
  },
  {
   "cell_type": "code",
   "execution_count": 10,
   "metadata": {},
   "outputs": [
    {
     "data": {
      "text/plain": [
       "ph                 491\n",
       "Hardness             0\n",
       "Solids               0\n",
       "Chloramines          0\n",
       "Sulfate            781\n",
       "Conductivity         0\n",
       "Organic_carbon       0\n",
       "Trihalomethanes    162\n",
       "Turbidity            0\n",
       "Potability           0\n",
       "dtype: int64"
      ]
     },
     "execution_count": 10,
     "metadata": {},
     "output_type": "execute_result"
    }
   ],
   "source": [
    "df.isna().sum()"
   ]
  },
  {
   "cell_type": "code",
   "execution_count": null,
   "metadata": {},
   "outputs": [],
   "source": [
    "X=df.drop(['portability'],axis=1)\n",
    "Y=df['Potability']\n"
   ]
  },
  {
   "cell_type": "code",
   "execution_count": null,
   "metadata": {},
   "outputs": [],
   "source": [
    "from sklearn.preprocessing import StandardScaler\n",
    "sc = StandardScaler()\n",
    "features=X.columns\n",
    "X[features]=sc.fit_transform(X[features])\n"
   ]
  },
  {
   "cell_type": "code",
   "execution_count": 51,
   "metadata": {},
   "outputs": [
    {
     "name": "stdout",
     "output_type": "stream",
     "text": [
      "Fitting 3 folds for each of 5 candidates, totalling 15 fits\n",
      "Best Hyperparameters: {'n_estimators': 150, 'min_samples_split': 5, 'max_features': 'log2', 'max_depth': 20}\n",
      "Accuracy: 0.7027439024390244\n",
      "Classification Report:\n",
      "              precision    recall  f1-score   support\n",
      "\n",
      "           0       0.70      0.94      0.80       416\n",
      "           1       0.75      0.28      0.41       240\n",
      "\n",
      "    accuracy                           0.70       656\n",
      "   macro avg       0.72      0.61      0.61       656\n",
      "weighted avg       0.71      0.70      0.66       656\n",
      "\n",
      "Confusion Matrix:\n",
      "[[393  23]\n",
      " [172  68]]\n"
     ]
    }
   ],
   "source": [
    "from sklearn.ensemble import ExtraTreesClassifier\n",
    "from sklearn.model_selection import RandomizedSearchCV\n",
    "from sklearn.preprocessing import StandardScaler\n",
    "from sklearn.model_selection import train_test_split\n",
    "from sklearn.metrics import accuracy_score, classification_report, confusion_matrix\n",
    "import numpy as np\n",
    "import pandas as pd\n",
    "\n",
    "# Load the data\n",
    "df = pd.read_csv(r'C:\\Users\\Bharath Elakurthi\\Downloads\\water_potability.csv')\n",
    "\n",
    "# Preprocess the data\n",
    "X = df.drop('Potability', axis=1)\n",
    "y = df['Potability']\n",
    "\n",
    "# Train-test split (keeping a smaller proportion for faster testing)\n",
    "X_train, X_test, y_train, y_test = train_test_split(X, y, test_size=0.2, random_state=66)\n",
    "\n",
    "# Scale the features\n",
    "scaler = StandardScaler()\n",
    "X_train_scaled = scaler.fit_transform(X_train)\n",
    "X_test_scaled = scaler.transform(X_test)\n",
    "\n",
    "# Initialize the ExtraTreesClassifier\n",
    "ext = ExtraTreesClassifier(random_state=66)\n",
    "\n",
    "# Define the parameter distribution for RandomizedSearchCV (simplified)\n",
    "param_dist = {\n",
    "    'n_estimators': [50, 100, 150],  # Reduced options for quicker search\n",
    "    'max_depth': [None, 10, 20],  # Limited depth options\n",
    "    'min_samples_split': [2, 5],  # Few options for min_samples_split\n",
    "    'max_features': ['sqrt', 'log2']  # Limited feature selection options\n",
    "}\n",
    "\n",
    "# Perform RandomizedSearchCV\n",
    "random_search = RandomizedSearchCV(estimator=ext, param_distributions=param_dist, n_iter=5, cv=3, n_jobs=1, verbose=1, random_state=76, error_score='raise')\n",
    "\n",
    "# Fit the model\n",
    "random_search.fit(X_train_scaled, y_train)\n",
    "\n",
    "# Get the best parameters found\n",
    "print(\"Best Hyperparameters:\", random_search.best_params_)\n",
    "\n",
    "# Get the best model\n",
    "best_model = random_search.best_estimator_\n",
    "\n",
    "# Predict on the test set\n",
    "y_pred = best_model.predict(X_test_scaled)\n",
    "\n",
    "# Evaluate the model\n",
    "print(\"Accuracy:\", accuracy_score(y_test, y_pred))\n",
    "print(\"Classification Report:\")\n",
    "print(classification_report(y_test, y_pred))\n",
    "print(\"Confusion Matrix:\")\n",
    "print(confusion_matrix(y_test, y_pred))\n"
   ]
  },
  {
   "cell_type": "code",
   "execution_count": 64,
   "metadata": {},
   "outputs": [
    {
     "name": "stdout",
     "output_type": "stream",
     "text": [
      "Accuracy: 0.6417682926829268\n",
      "Classification Report:\n",
      "              precision    recall  f1-score   support\n",
      "\n",
      "           0       0.69      0.77      0.73       406\n",
      "           1       0.54      0.43      0.48       250\n",
      "\n",
      "    accuracy                           0.64       656\n",
      "   macro avg       0.61      0.60      0.60       656\n",
      "weighted avg       0.63      0.64      0.63       656\n",
      "\n",
      "Confusion Matrix:\n",
      "[[314  92]\n",
      " [143 107]]\n"
     ]
    }
   ],
   "source": [
    "import pandas as pd\n",
    "from sklearn.model_selection import train_test_split\n",
    "import xgboost as xgb\n",
    "from sklearn.metrics import accuracy_score, classification_report, confusion_matrix\n",
    "\n",
    "df = pd.read_csv(r'C:\\Users\\Bharath Elakurthi\\Downloads\\water_potability.csv')\n",
    "\n",
    "X = df.drop('Potability', axis=1)\n",
    "y = df['Potability']\n",
    "\n",
    "X_train, X_test, y_train, y_test = train_test_split(X, y, test_size=0.2, random_state=50)\n",
    "\n",
    "xgb_model = xgb.XGBClassifier()\n",
    "xgb_model.fit(X_train, y_train)\n",
    "\n",
    "y_pred = xgb_model.predict(X_test)\n",
    "\n",
    "print(\"Accuracy:\", accuracy_score(y_test, y_pred))\n",
    "print(\"Classification Report:\") \n",
    "print(classification_report(y_test, y_pred))\n",
    "print(\"Confusion Matrix:\")\n",
    "print(confusion_matrix(y_test, y_pred))\n",
    "\n"
   ]
  },
  {
   "cell_type": "code",
   "execution_count": 23,
   "metadata": {},
   "outputs": [],
   "source": [
    "#proof: \n",
    "# Splitting the data: The code splits the dataset into training and testing sets using train_test_split.\n",
    " #   - X_train and y_train are used for training the model.\n",
    "   # - X_test and y_test are used for evaluating the model's performance.\n",
    "\n",
    "\n",
    "#1. Scaling the data: The code scales the data using StandardScaler to have zero mean and unit variance.\n",
    " #   - X_train_scaled and X_test_scaled are the scaled versions of X_train and X_test.\n",
    "\n",
    "\n",
    "#1. Training the model: The code trains an ExtraTreesClassifier model using GridSearchCV.\n",
    " #   - grid_ext.fit(X_train_scaled, y_train) trains the model on the scaled training data.\n",
    "\n",
    "#\n",
    "#1. Making predictions: The code uses the trained model to make predictions on the scaled testing data.\n",
    "#    - y_pred = grid_ext.predict(X_test_scaled) generates predictions for the testing data.\n",
    "\n",
    "\n",
    "#1. Calculating accuracy: The code calculates the accuracy of the model using accuracy_score.\n",
    " #   - accuracy_score(y_test, y_pred) compares the predicted labels (y_pred) with the actual labels (y_test) and returns the accuracy score.\n",
    "\n",
    "\n",
    "#The accuracy score is a value between 0 and 1 that represents the proportion of correctly classified instances. In this case, the accuracy score is printed to the console."
   ]
  },
  {
   "cell_type": "code",
   "execution_count": 25,
   "metadata": {},
   "outputs": [
    {
     "data": {
      "text/plain": [
       "['ext.joblib']"
      ]
     },
     "execution_count": 25,
     "metadata": {},
     "output_type": "execute_result"
    }
   ],
   "source": [
    "import joblib\n",
    "joblib.dump(ext, 'ext.joblib')\n",
    "['ext.joblib']"
   ]
  }
 ],
 "metadata": {
  "kernelspec": {
   "display_name": "Python 3",
   "language": "python",
   "name": "python3"
  },
  "language_info": {
   "codemirror_mode": {
    "name": "ipython",
    "version": 3
   },
   "file_extension": ".py",
   "mimetype": "text/x-python",
   "name": "python",
   "nbconvert_exporter": "python",
   "pygments_lexer": "ipython3",
   "version": "3.11.5"
  }
 },
 "nbformat": 4,
 "nbformat_minor": 2
}
